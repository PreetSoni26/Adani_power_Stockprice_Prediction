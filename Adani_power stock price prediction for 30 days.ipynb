{
 "cells": [
  {
   "cell_type": "code",
   "execution_count": 16,
   "id": "1e4998dc",
   "metadata": {},
   "outputs": [],
   "source": [
    "import pandas as pd\n",
    "import numpy as np"
   ]
  },
  {
   "cell_type": "code",
   "execution_count": 17,
   "id": "91572a73",
   "metadata": {},
   "outputs": [
    {
     "data": {
      "text/html": [
       "<div>\n",
       "<style scoped>\n",
       "    .dataframe tbody tr th:only-of-type {\n",
       "        vertical-align: middle;\n",
       "    }\n",
       "\n",
       "    .dataframe tbody tr th {\n",
       "        vertical-align: top;\n",
       "    }\n",
       "\n",
       "    .dataframe thead th {\n",
       "        text-align: right;\n",
       "    }\n",
       "</style>\n",
       "<table border=\"1\" class=\"dataframe\">\n",
       "  <thead>\n",
       "    <tr style=\"text-align: right;\">\n",
       "      <th></th>\n",
       "      <th>Date</th>\n",
       "      <th>Open</th>\n",
       "      <th>High</th>\n",
       "      <th>Low</th>\n",
       "      <th>Close</th>\n",
       "      <th>Adj Close</th>\n",
       "      <th>Volume</th>\n",
       "    </tr>\n",
       "  </thead>\n",
       "  <tbody>\n",
       "    <tr>\n",
       "      <th>0</th>\n",
       "      <td>2018-04-02</td>\n",
       "      <td>24.500000</td>\n",
       "      <td>24.700001</td>\n",
       "      <td>23.600000</td>\n",
       "      <td>24.450001</td>\n",
       "      <td>24.450001</td>\n",
       "      <td>13084386</td>\n",
       "    </tr>\n",
       "    <tr>\n",
       "      <th>1</th>\n",
       "      <td>2018-04-03</td>\n",
       "      <td>24.200001</td>\n",
       "      <td>25.200001</td>\n",
       "      <td>23.700001</td>\n",
       "      <td>25.100000</td>\n",
       "      <td>25.100000</td>\n",
       "      <td>17305908</td>\n",
       "    </tr>\n",
       "    <tr>\n",
       "      <th>2</th>\n",
       "      <td>2018-04-04</td>\n",
       "      <td>25.049999</td>\n",
       "      <td>26.350000</td>\n",
       "      <td>24.750000</td>\n",
       "      <td>25.049999</td>\n",
       "      <td>25.049999</td>\n",
       "      <td>26472761</td>\n",
       "    </tr>\n",
       "    <tr>\n",
       "      <th>3</th>\n",
       "      <td>2018-04-05</td>\n",
       "      <td>25.600000</td>\n",
       "      <td>25.850000</td>\n",
       "      <td>25.250000</td>\n",
       "      <td>25.500000</td>\n",
       "      <td>25.500000</td>\n",
       "      <td>14516075</td>\n",
       "    </tr>\n",
       "    <tr>\n",
       "      <th>4</th>\n",
       "      <td>2018-04-06</td>\n",
       "      <td>25.600000</td>\n",
       "      <td>26.000000</td>\n",
       "      <td>25.299999</td>\n",
       "      <td>25.650000</td>\n",
       "      <td>25.650000</td>\n",
       "      <td>14599472</td>\n",
       "    </tr>\n",
       "  </tbody>\n",
       "</table>\n",
       "</div>"
      ],
      "text/plain": [
       "         Date       Open       High        Low      Close  Adj Close    Volume\n",
       "0  2018-04-02  24.500000  24.700001  23.600000  24.450001  24.450001  13084386\n",
       "1  2018-04-03  24.200001  25.200001  23.700001  25.100000  25.100000  17305908\n",
       "2  2018-04-04  25.049999  26.350000  24.750000  25.049999  25.049999  26472761\n",
       "3  2018-04-05  25.600000  25.850000  25.250000  25.500000  25.500000  14516075\n",
       "4  2018-04-06  25.600000  26.000000  25.299999  25.650000  25.650000  14599472"
      ]
     },
     "execution_count": 17,
     "metadata": {},
     "output_type": "execute_result"
    }
   ],
   "source": [
    "data=pd.read_csv(\"ADANIPOWER.NS.csv\")\n",
    "data.head()"
   ]
  },
  {
   "cell_type": "code",
   "execution_count": 18,
   "id": "e19c6ccb",
   "metadata": {},
   "outputs": [
    {
     "data": {
      "text/html": [
       "<div>\n",
       "<style scoped>\n",
       "    .dataframe tbody tr th:only-of-type {\n",
       "        vertical-align: middle;\n",
       "    }\n",
       "\n",
       "    .dataframe tbody tr th {\n",
       "        vertical-align: top;\n",
       "    }\n",
       "\n",
       "    .dataframe thead th {\n",
       "        text-align: right;\n",
       "    }\n",
       "</style>\n",
       "<table border=\"1\" class=\"dataframe\">\n",
       "  <thead>\n",
       "    <tr style=\"text-align: right;\">\n",
       "      <th></th>\n",
       "      <th>Date</th>\n",
       "      <th>Open</th>\n",
       "      <th>High</th>\n",
       "      <th>Low</th>\n",
       "      <th>Close</th>\n",
       "      <th>Adj Close</th>\n",
       "      <th>Volume</th>\n",
       "    </tr>\n",
       "  </thead>\n",
       "  <tbody>\n",
       "    <tr>\n",
       "      <th>1233</th>\n",
       "      <td>2023-03-24</td>\n",
       "      <td>202.550003</td>\n",
       "      <td>204.000000</td>\n",
       "      <td>192.149994</td>\n",
       "      <td>192.600006</td>\n",
       "      <td>192.600006</td>\n",
       "      <td>13774170</td>\n",
       "    </tr>\n",
       "    <tr>\n",
       "      <th>1234</th>\n",
       "      <td>2023-03-27</td>\n",
       "      <td>195.600006</td>\n",
       "      <td>195.600006</td>\n",
       "      <td>183.000000</td>\n",
       "      <td>183.000000</td>\n",
       "      <td>183.000000</td>\n",
       "      <td>8057710</td>\n",
       "    </tr>\n",
       "    <tr>\n",
       "      <th>1235</th>\n",
       "      <td>2023-03-28</td>\n",
       "      <td>178.949997</td>\n",
       "      <td>183.000000</td>\n",
       "      <td>173.850006</td>\n",
       "      <td>173.850006</td>\n",
       "      <td>173.850006</td>\n",
       "      <td>5385184</td>\n",
       "    </tr>\n",
       "    <tr>\n",
       "      <th>1236</th>\n",
       "      <td>2023-03-29</td>\n",
       "      <td>167.000000</td>\n",
       "      <td>182.500000</td>\n",
       "      <td>166.399994</td>\n",
       "      <td>182.500000</td>\n",
       "      <td>182.500000</td>\n",
       "      <td>16463799</td>\n",
       "    </tr>\n",
       "    <tr>\n",
       "      <th>1237</th>\n",
       "      <td>2023-03-31</td>\n",
       "      <td>190.449997</td>\n",
       "      <td>191.600006</td>\n",
       "      <td>188.649994</td>\n",
       "      <td>191.600006</td>\n",
       "      <td>191.600006</td>\n",
       "      <td>7735789</td>\n",
       "    </tr>\n",
       "  </tbody>\n",
       "</table>\n",
       "</div>"
      ],
      "text/plain": [
       "            Date        Open        High         Low       Close   Adj Close  \\\n",
       "1233  2023-03-24  202.550003  204.000000  192.149994  192.600006  192.600006   \n",
       "1234  2023-03-27  195.600006  195.600006  183.000000  183.000000  183.000000   \n",
       "1235  2023-03-28  178.949997  183.000000  173.850006  173.850006  173.850006   \n",
       "1236  2023-03-29  167.000000  182.500000  166.399994  182.500000  182.500000   \n",
       "1237  2023-03-31  190.449997  191.600006  188.649994  191.600006  191.600006   \n",
       "\n",
       "        Volume  \n",
       "1233  13774170  \n",
       "1234   8057710  \n",
       "1235   5385184  \n",
       "1236  16463799  \n",
       "1237   7735789  "
      ]
     },
     "execution_count": 18,
     "metadata": {},
     "output_type": "execute_result"
    }
   ],
   "source": [
    "data.tail()"
   ]
  },
  {
   "cell_type": "code",
   "execution_count": 19,
   "id": "580cf874",
   "metadata": {},
   "outputs": [],
   "source": [
    "data1=data[\"Close\"]"
   ]
  },
  {
   "cell_type": "code",
   "execution_count": 20,
   "id": "dc1825cc",
   "metadata": {},
   "outputs": [
    {
     "data": {
      "text/plain": [
       "(1238,)"
      ]
     },
     "execution_count": 20,
     "metadata": {},
     "output_type": "execute_result"
    }
   ],
   "source": [
    "data1.shape"
   ]
  },
  {
   "cell_type": "code",
   "execution_count": 21,
   "id": "641cf9f4",
   "metadata": {},
   "outputs": [],
   "source": [
    "import matplotlib.pyplot as plt"
   ]
  },
  {
   "cell_type": "code",
   "execution_count": 22,
   "id": "3438875f",
   "metadata": {},
   "outputs": [
    {
     "data": {
      "text/plain": [
       "[<matplotlib.lines.Line2D at 0x1dff60e1550>]"
      ]
     },
     "execution_count": 22,
     "metadata": {},
     "output_type": "execute_result"
    },
    {
     "data": {
      "image/png": "[encoded data removed]",
      "text/plain": [
       "<Figure size 640x480 with 1 Axes>"
      ]
     },
     "metadata": {},
     "output_type": "display_data"
    }
   ],
   "source": [
    "plt.plot(data1)"
   ]
  },
  {
   "cell_type": "code",
   "execution_count": 23,
   "id": "675c282b",
   "metadata": {},
   "outputs": [],
   "source": [
    "from sklearn.preprocessing import MinMaxScaler"
   ]
  },
  {
   "cell_type": "code",
   "execution_count": 24,
   "id": "c007dfd3",
   "metadata": {},
   "outputs": [],
   "source": [
    "scaler=MinMaxScaler(feature_range=(0,1))\n",
    "data1=scaler.fit_transform(np.array(data1).reshape(-1,1))"
   ]
  },
  {
   "cell_type": "code",
   "execution_count": 25,
   "id": "901d1679",
   "metadata": {},
   "outputs": [
    {
     "data": {
      "text/plain": [
       "(1238, 1)"
      ]
     },
     "execution_count": 25,
     "metadata": {},
     "output_type": "execute_result"
    }
   ],
   "source": [
    "data1.shape"
   ]
  },
  {
   "cell_type": "code",
   "execution_count": 26,
   "id": "4cefdf2e",
   "metadata": {},
   "outputs": [
    {
     "name": "stdout",
     "output_type": "stream",
     "text": [
      "[[0.02158015]\n",
      " [0.02313871]\n",
      " [0.02301882]\n",
      " ...\n",
      " [0.37981059]\n",
      " [0.40055149]\n",
      " [0.42237143]]\n"
     ]
    }
   ],
   "source": [
    "print(data1)"
   ]
  },
  {
   "cell_type": "code",
   "execution_count": 27,
   "id": "877b1249",
   "metadata": {},
   "outputs": [],
   "source": [
    "#splitting data into train and test "
   ]
  },
  {
   "cell_type": "code",
   "execution_count": 28,
   "id": "f2f35405",
   "metadata": {},
   "outputs": [],
   "source": [
    "training_size=int(len(data1)*0.70)\n",
    "test_size=len(data1)-training_size\n",
    "train_data,test_data=data1[0:training_size,:],data1[training_size:len(data1),:1]\n"
   ]
  },
  {
   "cell_type": "code",
   "execution_count": 30,
   "id": "a428efff",
   "metadata": {},
   "outputs": [
    {
     "data": {
      "text/plain": [
       "(866, 372)"
      ]
     },
     "execution_count": 30,
     "metadata": {},
     "output_type": "execute_result"
    }
   ],
   "source": [
    "training_size,test_size"
   ]
  },
  {
   "cell_type": "code",
   "execution_count": 29,
   "id": "14f58321",
   "metadata": {},
   "outputs": [],
   "source": [
    "#convert an array into a dataset matrix"
   ]
  },
  {
   "cell_type": "code",
   "execution_count": 31,
   "id": "37fa7e85",
   "metadata": {},
   "outputs": [],
   "source": [
    "def create_dataset(dataset,time_step=1):\n",
    "    dataX,dataY=[],[]\n",
    "    for i in range(len(dataset)-time_step-1):\n",
    "        a=dataset[i:(i+time_step),0]\n",
    "        dataX.append(a)\n",
    "        dataY.append(dataset[i+time_step,0])\n",
    "    return np.array(dataX),np.array(dataY)"
   ]
  },
  {
   "cell_type": "code",
   "execution_count": null,
   "id": "c3318f30",
   "metadata": {},
   "outputs": [],
   "source": [
    "#reshaping "
   ]
  },
  {
   "cell_type": "code",
   "execution_count": 32,
   "id": "39089751",
   "metadata": {},
   "outputs": [],
   "source": [
    "time_step=100\n",
    "x_train,y_train=create_dataset(train_data,time_step)\n",
    "x_test,y_test=create_dataset(test_data,time_step)"
   ]
  },
  {
   "cell_type": "code",
   "execution_count": 36,
   "id": "0903e13e",
   "metadata": {},
   "outputs": [
    {
     "name": "stdout",
     "output_type": "stream",
     "text": [
      "(765, 100)\n",
      "(765,)\n"
     ]
    },
    {
     "data": {
      "text/plain": [
       "(None, None)"
      ]
     },
     "execution_count": 36,
     "metadata": {},
     "output_type": "execute_result"
    }
   ],
   "source": [
    "print(x_train.shape),print(y_train.shape)"
   ]
  },
  {
   "cell_type": "code",
   "execution_count": 37,
   "id": "82766985",
   "metadata": {},
   "outputs": [
    {
     "name": "stdout",
     "output_type": "stream",
     "text": [
      "(271, 100)\n",
      "(271,)\n"
     ]
    },
    {
     "data": {
      "text/plain": [
       "(None, None)"
      ]
     },
     "execution_count": 37,
     "metadata": {},
     "output_type": "execute_result"
    }
   ],
   "source": [
    "print(x_test.shape),print(y_test.shape)"
   ]
  },
  {
   "cell_type": "code",
   "execution_count": null,
   "id": "2aa4569c",
   "metadata": {},
   "outputs": [],
   "source": [
    "#reshaping into 3d"
   ]
  },
  {
   "cell_type": "code",
   "execution_count": 39,
   "id": "64858210",
   "metadata": {},
   "outputs": [],
   "source": [
    "x_train=x_train.reshape(x_train.shape[0],x_train.shape[1],1)\n",
    "x_test=x_test.reshape(x_test.shape[0],x_test.shape[1],1)"
   ]
  },
  {
   "cell_type": "code",
   "execution_count": null,
   "id": "3348154e",
   "metadata": {},
   "outputs": [],
   "source": [
    "#creating the model"
   ]
  },
  {
   "cell_type": "code",
   "execution_count": 40,
   "id": "50b24d14",
   "metadata": {},
   "outputs": [],
   "source": [
    "from tensorflow.keras.models import Sequential\n",
    "from tensorflow.keras.layers import Dense\n",
    "from tensorflow.keras.layers import LSTM"
   ]
  },
  {
   "cell_type": "code",
   "execution_count": 41,
   "id": "969737da",
   "metadata": {},
   "outputs": [],
   "source": [
    "model=Sequential()\n",
    "model.add(LSTM(50,return_sequences=True,input_shape=(100,1)))\n",
    "model.add(LSTM(50,return_sequences=True))\n",
    "model.add(LSTM(50))\n",
    "model.add(Dense(1))\n",
    "model.compile(loss=\"mean_squared_error\",optimizer='adam')"
   ]
  },
  {
   "cell_type": "code",
   "execution_count": 42,
   "id": "40fe9af7",
   "metadata": {},
   "outputs": [
    {
     "name": "stdout",
     "output_type": "stream",
     "text": [
      "Model: \"sequential\"\n",
      "_________________________________________________________________\n",
      " Layer (type)                Output Shape              Param #   \n",
      "=================================================================\n",
      " lstm (LSTM)                 (None, 100, 50)           10400     \n",
      "                                                                 \n",
      " lstm_1 (LSTM)               (None, 100, 50)           20200     \n",
      "                                                                 \n",
      " lstm_2 (LSTM)               (None, 50)                20200     \n",
      "                                                                 \n",
      " dense (Dense)               (None, 1)                 51        \n",
      "                                                                 \n",
      "=================================================================\n",
      "Total params: 50,851\n",
      "Trainable params: 50,851\n",
      "Non-trainable params: 0\n",
      "_________________________________________________________________\n"
     ]
    }
   ],
   "source": [
    "model.summary()"
   ]
  },
  {
   "cell_type": "code",
   "execution_count": 43,
   "id": "f12cff93",
   "metadata": {},
   "outputs": [
    {
     "name": "stdout",
     "output_type": "stream",
     "text": [
      "Epoch 1/100\n",
      "12/12 [==============================] - 20s 752ms/step - loss: 0.0033 - val_loss: 0.1253\n",
      "Epoch 2/100\n",
      "12/12 [==============================] - 7s 571ms/step - loss: 0.0011 - val_loss: 0.0239\n",
      "Epoch 3/100\n",
      "12/12 [==============================] - 7s 548ms/step - loss: 5.6184e-04 - val_loss: 0.0085\n",
      "Epoch 4/100\n",
      "12/12 [==============================] - 7s 556ms/step - loss: 4.1154e-04 - val_loss: 0.0090\n",
      "Epoch 5/100\n",
      "12/12 [==============================] - 7s 568ms/step - loss: 3.7345e-04 - val_loss: 0.0069\n",
      "Epoch 6/100\n",
      "12/12 [==============================] - 6s 535ms/step - loss: 3.6609e-04 - val_loss: 0.0065\n",
      "Epoch 7/100\n",
      "12/12 [==============================] - 6s 529ms/step - loss: 3.4719e-04 - val_loss: 0.0080\n",
      "Epoch 8/100\n",
      "12/12 [==============================] - 6s 533ms/step - loss: 3.5845e-04 - val_loss: 0.0084\n",
      "Epoch 9/100\n",
      "12/12 [==============================] - 6s 528ms/step - loss: 3.3195e-04 - val_loss: 0.0084\n",
      "Epoch 10/100\n",
      "12/12 [==============================] - 6s 545ms/step - loss: 3.3963e-04 - val_loss: 0.0081\n",
      "Epoch 11/100\n",
      "12/12 [==============================] - 6s 539ms/step - loss: 3.0137e-04 - val_loss: 0.0059\n",
      "Epoch 12/100\n",
      "12/12 [==============================] - 6s 546ms/step - loss: 2.9099e-04 - val_loss: 0.0058\n",
      "Epoch 13/100\n",
      "12/12 [==============================] - 6s 542ms/step - loss: 2.9391e-04 - val_loss: 0.0066\n",
      "Epoch 14/100\n",
      "12/12 [==============================] - 6s 525ms/step - loss: 2.7164e-04 - val_loss: 0.0095\n",
      "Epoch 15/100\n",
      "12/12 [==============================] - 6s 503ms/step - loss: 2.6641e-04 - val_loss: 0.0093\n",
      "Epoch 16/100\n",
      "12/12 [==============================] - 6s 540ms/step - loss: 2.7335e-04 - val_loss: 0.0083\n",
      "Epoch 17/100\n",
      "12/12 [==============================] - 6s 512ms/step - loss: 2.5612e-04 - val_loss: 0.0081\n",
      "Epoch 18/100\n",
      "12/12 [==============================] - 6s 522ms/step - loss: 2.4963e-04 - val_loss: 0.0117\n",
      "Epoch 19/100\n",
      "12/12 [==============================] - 6s 523ms/step - loss: 2.4796e-04 - val_loss: 0.0100\n",
      "Epoch 20/100\n",
      "12/12 [==============================] - 6s 523ms/step - loss: 2.4088e-04 - val_loss: 0.0129\n",
      "Epoch 21/100\n",
      "12/12 [==============================] - 6s 536ms/step - loss: 2.3738e-04 - val_loss: 0.0104\n",
      "Epoch 22/100\n",
      "12/12 [==============================] - 6s 537ms/step - loss: 2.3671e-04 - val_loss: 0.0089\n",
      "Epoch 23/100\n",
      "12/12 [==============================] - 6s 511ms/step - loss: 2.2537e-04 - val_loss: 0.0140\n",
      "Epoch 24/100\n",
      "12/12 [==============================] - 6s 510ms/step - loss: 2.2745e-04 - val_loss: 0.0098\n",
      "Epoch 25/100\n",
      "12/12 [==============================] - 6s 531ms/step - loss: 2.2183e-04 - val_loss: 0.0144\n",
      "Epoch 26/100\n",
      "12/12 [==============================] - 6s 514ms/step - loss: 2.3322e-04 - val_loss: 0.0103\n",
      "Epoch 27/100\n",
      "12/12 [==============================] - 6s 511ms/step - loss: 2.3724e-04 - val_loss: 0.0156\n",
      "Epoch 28/100\n",
      "12/12 [==============================] - 6s 542ms/step - loss: 2.2354e-04 - val_loss: 0.0097\n",
      "Epoch 29/100\n",
      "12/12 [==============================] - 6s 527ms/step - loss: 2.0208e-04 - val_loss: 0.0146\n",
      "Epoch 30/100\n",
      "12/12 [==============================] - 6s 512ms/step - loss: 1.9681e-04 - val_loss: 0.0120\n",
      "Epoch 31/100\n",
      "12/12 [==============================] - 6s 516ms/step - loss: 1.9755e-04 - val_loss: 0.0157\n",
      "Epoch 32/100\n",
      "12/12 [==============================] - 6s 511ms/step - loss: 2.2026e-04 - val_loss: 0.0123\n",
      "Epoch 33/100\n",
      "12/12 [==============================] - 6s 513ms/step - loss: 1.9233e-04 - val_loss: 0.0127\n",
      "Epoch 34/100\n",
      "12/12 [==============================] - 6s 512ms/step - loss: 1.9460e-04 - val_loss: 0.0122\n",
      "Epoch 35/100\n",
      "12/12 [==============================] - 6s 510ms/step - loss: 1.8103e-04 - val_loss: 0.0118\n",
      "Epoch 36/100\n",
      "12/12 [==============================] - 6s 518ms/step - loss: 1.8062e-04 - val_loss: 0.0151\n",
      "Epoch 37/100\n",
      "12/12 [==============================] - 6s 515ms/step - loss: 1.7863e-04 - val_loss: 0.0085\n",
      "Epoch 38/100\n",
      "12/12 [==============================] - 6s 500ms/step - loss: 1.9509e-04 - val_loss: 0.0134\n",
      "Epoch 39/100\n",
      "12/12 [==============================] - 6s 518ms/step - loss: 1.7740e-04 - val_loss: 0.0158\n",
      "Epoch 40/100\n",
      "12/12 [==============================] - 6s 515ms/step - loss: 1.8896e-04 - val_loss: 0.0112\n",
      "Epoch 41/100\n",
      "12/12 [==============================] - 6s 516ms/step - loss: 1.6839e-04 - val_loss: 0.0118\n",
      "Epoch 42/100\n",
      "12/12 [==============================] - 6s 504ms/step - loss: 1.6196e-04 - val_loss: 0.0082\n",
      "Epoch 43/100\n",
      "12/12 [==============================] - 6s 482ms/step - loss: 1.8811e-04 - val_loss: 0.0157\n",
      "Epoch 44/100\n",
      "12/12 [==============================] - 6s 513ms/step - loss: 1.6983e-04 - val_loss: 0.0126\n",
      "Epoch 45/100\n",
      "12/12 [==============================] - 6s 520ms/step - loss: 1.6557e-04 - val_loss: 0.0109\n",
      "Epoch 46/100\n",
      "12/12 [==============================] - 6s 522ms/step - loss: 1.8570e-04 - val_loss: 0.0121\n",
      "Epoch 47/100\n",
      "12/12 [==============================] - 6s 510ms/step - loss: 1.7711e-04 - val_loss: 0.0092\n",
      "Epoch 48/100\n",
      "12/12 [==============================] - 6s 504ms/step - loss: 1.5269e-04 - val_loss: 0.0141\n",
      "Epoch 49/100\n",
      "12/12 [==============================] - 6s 513ms/step - loss: 1.4645e-04 - val_loss: 0.0092\n",
      "Epoch 50/100\n",
      "12/12 [==============================] - 6s 500ms/step - loss: 1.4009e-04 - val_loss: 0.0122\n",
      "Epoch 51/100\n",
      "12/12 [==============================] - 6s 513ms/step - loss: 1.4600e-04 - val_loss: 0.0087\n",
      "Epoch 52/100\n",
      "12/12 [==============================] - 6s 517ms/step - loss: 1.6486e-04 - val_loss: 0.0127\n",
      "Epoch 53/100\n",
      "12/12 [==============================] - 6s 519ms/step - loss: 1.4283e-04 - val_loss: 0.0098\n",
      "Epoch 54/100\n",
      "12/12 [==============================] - 6s 512ms/step - loss: 1.4347e-04 - val_loss: 0.0116\n",
      "Epoch 55/100\n",
      "12/12 [==============================] - 5s 458ms/step - loss: 1.3522e-04 - val_loss: 0.0127\n",
      "Epoch 56/100\n",
      "12/12 [==============================] - 4s 312ms/step - loss: 1.3404e-04 - val_loss: 0.0061\n",
      "Epoch 57/100\n",
      "12/12 [==============================] - 4s 360ms/step - loss: 1.4664e-04 - val_loss: 0.0140\n",
      "Epoch 58/100\n",
      "12/12 [==============================] - 4s 324ms/step - loss: 1.2555e-04 - val_loss: 0.0112\n",
      "Epoch 59/100\n",
      "12/12 [==============================] - 4s 320ms/step - loss: 1.2133e-04 - val_loss: 0.0066\n",
      "Epoch 60/100\n",
      "12/12 [==============================] - 4s 359ms/step - loss: 1.2848e-04 - val_loss: 0.0162\n",
      "Epoch 61/100\n",
      "12/12 [==============================] - 5s 376ms/step - loss: 1.1923e-04 - val_loss: 0.0080\n",
      "Epoch 62/100\n",
      "12/12 [==============================] - 5s 406ms/step - loss: 1.1631e-04 - val_loss: 0.0079\n",
      "Epoch 63/100\n",
      "12/12 [==============================] - 4s 360ms/step - loss: 1.1123e-04 - val_loss: 0.0112\n",
      "Epoch 64/100\n",
      "12/12 [==============================] - 6s 485ms/step - loss: 1.0942e-04 - val_loss: 0.0061\n",
      "Epoch 65/100\n",
      "12/12 [==============================] - 6s 514ms/step - loss: 1.1221e-04 - val_loss: 0.0103\n",
      "Epoch 66/100\n",
      "12/12 [==============================] - 6s 525ms/step - loss: 1.0420e-04 - val_loss: 0.0090\n",
      "Epoch 67/100\n",
      "12/12 [==============================] - 6s 505ms/step - loss: 1.0015e-04 - val_loss: 0.0072\n",
      "Epoch 68/100\n",
      "12/12 [==============================] - 6s 504ms/step - loss: 1.0115e-04 - val_loss: 0.0067\n",
      "Epoch 69/100\n",
      "12/12 [==============================] - 6s 514ms/step - loss: 1.0333e-04 - val_loss: 0.0095\n",
      "Epoch 70/100\n",
      "12/12 [==============================] - 6s 503ms/step - loss: 1.0102e-04 - val_loss: 0.0098\n",
      "Epoch 71/100\n",
      "12/12 [==============================] - 6s 517ms/step - loss: 9.3093e-05 - val_loss: 0.0062\n",
      "Epoch 72/100\n",
      "12/12 [==============================] - 6s 515ms/step - loss: 9.4855e-05 - val_loss: 0.0082\n",
      "Epoch 73/100\n",
      "12/12 [==============================] - 5s 426ms/step - loss: 9.9865e-05 - val_loss: 0.0074\n",
      "Epoch 74/100\n",
      "12/12 [==============================] - 4s 294ms/step - loss: 9.2093e-05 - val_loss: 0.0070\n",
      "Epoch 75/100\n",
      "12/12 [==============================] - 4s 324ms/step - loss: 8.2884e-05 - val_loss: 0.0063\n",
      "Epoch 76/100\n",
      "12/12 [==============================] - 6s 500ms/step - loss: 8.7306e-05 - val_loss: 0.0099\n",
      "Epoch 77/100\n",
      "12/12 [==============================] - 6s 501ms/step - loss: 7.9253e-05 - val_loss: 0.0058\n",
      "Epoch 78/100\n"
     ]
    },
    {
     "name": "stdout",
     "output_type": "stream",
     "text": [
      "12/12 [==============================] - 6s 517ms/step - loss: 8.4378e-05 - val_loss: 0.0063\n",
      "Epoch 79/100\n",
      "12/12 [==============================] - 4s 311ms/step - loss: 7.9493e-05 - val_loss: 0.0066\n",
      "Epoch 80/100\n",
      "12/12 [==============================] - 6s 486ms/step - loss: 8.1266e-05 - val_loss: 0.0052\n",
      "Epoch 81/100\n",
      "12/12 [==============================] - 6s 507ms/step - loss: 7.6876e-05 - val_loss: 0.0092\n",
      "Epoch 82/100\n",
      "12/12 [==============================] - 6s 515ms/step - loss: 7.3626e-05 - val_loss: 0.0057\n",
      "Epoch 83/100\n",
      "12/12 [==============================] - 6s 526ms/step - loss: 7.1498e-05 - val_loss: 0.0061\n",
      "Epoch 84/100\n",
      "12/12 [==============================] - 6s 480ms/step - loss: 7.6113e-05 - val_loss: 0.0066\n",
      "Epoch 85/100\n",
      "12/12 [==============================] - 6s 511ms/step - loss: 6.8669e-05 - val_loss: 0.0064\n",
      "Epoch 86/100\n",
      "12/12 [==============================] - 6s 491ms/step - loss: 6.6224e-05 - val_loss: 0.0035\n",
      "Epoch 87/100\n",
      "12/12 [==============================] - 6s 509ms/step - loss: 7.8555e-05 - val_loss: 0.0101\n",
      "Epoch 88/100\n",
      "12/12 [==============================] - 6s 518ms/step - loss: 7.8025e-05 - val_loss: 0.0041\n",
      "Epoch 89/100\n",
      "12/12 [==============================] - 6s 514ms/step - loss: 6.4315e-05 - val_loss: 0.0057\n",
      "Epoch 90/100\n",
      "12/12 [==============================] - 6s 508ms/step - loss: 6.2275e-05 - val_loss: 0.0052\n",
      "Epoch 91/100\n",
      "12/12 [==============================] - 6s 507ms/step - loss: 6.7501e-05 - val_loss: 0.0058\n",
      "Epoch 92/100\n",
      "12/12 [==============================] - 6s 499ms/step - loss: 6.2052e-05 - val_loss: 0.0044\n",
      "Epoch 93/100\n",
      "12/12 [==============================] - 6s 521ms/step - loss: 6.2324e-05 - val_loss: 0.0028\n",
      "Epoch 94/100\n",
      "12/12 [==============================] - 6s 493ms/step - loss: 6.3528e-05 - val_loss: 0.0062\n",
      "Epoch 95/100\n",
      "12/12 [==============================] - 6s 523ms/step - loss: 5.8185e-05 - val_loss: 0.0045\n",
      "Epoch 96/100\n",
      "12/12 [==============================] - 6s 518ms/step - loss: 5.5556e-05 - val_loss: 0.0046\n",
      "Epoch 97/100\n",
      "12/12 [==============================] - 6s 495ms/step - loss: 5.5176e-05 - val_loss: 0.0035\n",
      "Epoch 98/100\n",
      "12/12 [==============================] - 6s 503ms/step - loss: 5.6309e-05 - val_loss: 0.0054\n",
      "Epoch 99/100\n",
      "12/12 [==============================] - 6s 518ms/step - loss: 5.6870e-05 - val_loss: 0.0038\n",
      "Epoch 100/100\n",
      "12/12 [==============================] - 6s 511ms/step - loss: 5.1443e-05 - val_loss: 0.0054\n"
     ]
    },
    {
     "data": {
      "text/plain": [
       "<keras.callbacks.History at 0x1df95e00690>"
      ]
     },
     "execution_count": 43,
     "metadata": {},
     "output_type": "execute_result"
    }
   ],
   "source": [
    "model.fit(x_train,y_train,validation_data=(x_test,y_test),epochs=100,batch_size=64,verbose=1)"
   ]
  },
  {
   "cell_type": "code",
   "execution_count": null,
   "id": "b71b3573",
   "metadata": {},
   "outputs": [],
   "source": [
    "#prediction to check performance"
   ]
  },
  {
   "cell_type": "code",
   "execution_count": 44,
   "id": "3232696f",
   "metadata": {},
   "outputs": [
    {
     "name": "stdout",
     "output_type": "stream",
     "text": [
      "24/24 [==============================] - 4s 91ms/step\n",
      "9/9 [==============================] - 1s 63ms/step\n"
     ]
    }
   ],
   "source": [
    "train_predict=model.predict(x_train)\n",
    "test_predict=model.predict(x_test)"
   ]
  },
  {
   "cell_type": "code",
   "execution_count": 45,
   "id": "d30f332d",
   "metadata": {},
   "outputs": [],
   "source": [
    "#transform back to original "
   ]
  },
  {
   "cell_type": "code",
   "execution_count": 46,
   "id": "0758cc91",
   "metadata": {},
   "outputs": [],
   "source": [
    "train_predict=scaler.inverse_transform(train_predict)\n",
    "test_predict=scaler.inverse_transform(test_predict)"
   ]
  },
  {
   "cell_type": "code",
   "execution_count": 47,
   "id": "b57e86de",
   "metadata": {},
   "outputs": [
    {
     "data": {
      "text/plain": [
       "60.19925852315891"
      ]
     },
     "execution_count": 47,
     "metadata": {},
     "output_type": "execute_result"
    }
   ],
   "source": [
    "import math \n",
    "from sklearn.metrics import mean_squared_error\n",
    "math.sqrt(mean_squared_error(y_train,train_predict))"
   ]
  },
  {
   "cell_type": "code",
   "execution_count": 48,
   "id": "9229057c",
   "metadata": {},
   "outputs": [
    {
     "data": {
      "text/plain": [
       "259.93271631221114"
      ]
     },
     "execution_count": 48,
     "metadata": {},
     "output_type": "execute_result"
    }
   ],
   "source": [
    "#test data RMSE\n",
    "math.sqrt(mean_squared_error(y_test,test_predict))"
   ]
  },
  {
   "cell_type": "code",
   "execution_count": 49,
   "id": "478e38cf",
   "metadata": {},
   "outputs": [
    {
     "data": {
      "image/png": "[encoded data removed]",
      "text/plain": [
       "<Figure size 640x480 with 1 Axes>"
      ]
     },
     "metadata": {},
     "output_type": "display_data"
    }
   ],
   "source": [
    "#plotting \n",
    "look_back=100\n",
    "trainpredictplot=np.empty_like(data1)\n",
    "trainpredictplot[:,:]=np.nan\n",
    "trainpredictplot[look_back:len(train_predict)+look_back,:]=train_predict\n",
    "#test prediction\n",
    "testpredictplot=np.empty_like(data1)\n",
    "testpredictplot[:,:]=np.nan\n",
    "testpredictplot[len(train_predict)+(look_back*2)+1:len(data1)-1,:]=test_predict\n",
    "#plot baseline\n",
    "plt.plot(scaler.inverse_transform(data1))\n",
    "plt.plot(trainpredictplot)\n",
    "plt.plot(testpredictplot)\n",
    "plt.show()"
   ]
  },
  {
   "cell_type": "code",
   "execution_count": 50,
   "id": "f6cab01a",
   "metadata": {},
   "outputs": [
    {
     "data": {
      "text/plain": [
       "372"
      ]
     },
     "execution_count": 50,
     "metadata": {},
     "output_type": "execute_result"
    }
   ],
   "source": [
    "len(test_data)"
   ]
  },
  {
   "cell_type": "code",
   "execution_count": 52,
   "id": "494f02d8",
   "metadata": {},
   "outputs": [
    {
     "data": {
      "text/plain": [
       "(1, 100)"
      ]
     },
     "execution_count": 52,
     "metadata": {},
     "output_type": "execute_result"
    }
   ],
   "source": [
    "x_input=test_data[272:].reshape(1,-1)\n",
    "x_input.shape"
   ]
  },
  {
   "cell_type": "code",
   "execution_count": 53,
   "id": "35699d96",
   "metadata": {},
   "outputs": [],
   "source": [
    "temp_input=list(x_input)\n",
    "temp_input=temp_input[0].tolist()"
   ]
  },
  {
   "cell_type": "code",
   "execution_count": 54,
   "id": "fc273120",
   "metadata": {},
   "outputs": [
    {
     "data": {
      "text/plain": [
       "[0.8400671094592974,\n",
       " 0.8534947704112216,\n",
       " 0.826639520441194,\n",
       " 0.8256803452823401,\n",
       " 0.8190864117012348,\n",
       " 0.7905526771370339,\n",
       " 0.7686128761539384,\n",
       " 0.7698117731686848,\n",
       " 0.757103493585901,\n",
       " 0.7506294209327419,\n",
       " 0.7445150749310634,\n",
       " 0.7421172809015706,\n",
       " 0.7397194868720777,\n",
       " 0.7500299724253686,\n",
       " 0.7415178323941973,\n",
       " 0.7608200455580865,\n",
       " 0.7551852152020141,\n",
       " 0.7429564512648362,\n",
       " 0.7375614146984774,\n",
       " 0.7417575542500898,\n",
       " 0.7409183838868241,\n",
       " 0.7392398992926508,\n",
       " 0.7207768564920273,\n",
       " 0.7067498189665508,\n",
       " 0.7374415537705311,\n",
       " 0.7286896199496463,\n",
       " 0.7193382376213883,\n",
       " 0.7012348495384246,\n",
       " 0.6961994676897254,\n",
       " 0.6960796067617792,\n",
       " 0.6595132478120129,\n",
       " 0.6247452343843664,\n",
       " 0.5916557055508932,\n",
       " 0.6230667497901929,\n",
       " 0.6560364176957199,\n",
       " 0.6906845701954202,\n",
       " 0.6930823642249131,\n",
       " 0.681213255005395,\n",
       " 0.6778563577508692,\n",
       " 0.6697038724373576,\n",
       " 0.6501618654837549,\n",
       " 0.6553171082604003,\n",
       " 0.6424888958158493,\n",
       " 0.6527994533029613,\n",
       " 0.6324182040522719,\n",
       " 0.6252248219637934,\n",
       " 0.6191104040282939,\n",
       " 0.6312193070375255,\n",
       " 0.6174319913679415,\n",
       " 0.6390121376333773,\n",
       " 0.6312193070375255,\n",
       " 0.6284617863565519,\n",
       " 0.6224673012828197,\n",
       " 0.6180314398753147,\n",
       " 0.6215081980577868,\n",
       " 0.5887783239419734,\n",
       " 0.5574871046637093,\n",
       " 0.527754473084762,\n",
       " 0.4995803932382208,\n",
       " 0.47284496822922906,\n",
       " 0.447428373096751,\n",
       " 0.4232106390121088,\n",
       " 0.4001918379091236,\n",
       " 0.3783718978539743,\n",
       " 0.3991128018223234,\n",
       " 0.37729289773408464,\n",
       " 0.3566718546936818,\n",
       " 0.3370099508452224,\n",
       " 0.3183071502217959,\n",
       " 0.3005634887903129,\n",
       " 0.31734804699676294,\n",
       " 0.33497181153338923,\n",
       " 0.353554715261959,\n",
       " 0.37297686128761537,\n",
       " 0.35247571514206927,\n",
       " 0.3330536050833233,\n",
       " 0.3145905622826999,\n",
       " 0.29708669464093035,\n",
       " 0.3137513559525237,\n",
       " 0.33125525956120366,\n",
       " 0.3495983695000599,\n",
       " 0.3689006186308596,\n",
       " 0.3891619709866922,\n",
       " 0.4103824625344683,\n",
       " 0.43268191823522356,\n",
       " 0.45426206450065937,\n",
       " 0.47871959237501494,\n",
       " 0.45294330655796666,\n",
       " 0.44682892458937773,\n",
       " 0.4393957487111857,\n",
       " 0.44239299124805176,\n",
       " 0.4190144994604963,\n",
       " 0.44179354274067856,\n",
       " 0.4522239611557367,\n",
       " 0.4458697853974343,\n",
       " 0.4247692267114255,\n",
       " 0.40175038964152976,\n",
       " 0.37981058865843426,\n",
       " 0.40055149262678336,\n",
       " 0.4223714326819326]"
      ]
     },
     "execution_count": 54,
     "metadata": {},
     "output_type": "execute_result"
    }
   ],
   "source": [
    "temp_input"
   ]
  },
  {
   "cell_type": "code",
   "execution_count": 55,
   "id": "b5eec43b",
   "metadata": {},
   "outputs": [
    {
     "name": "stdout",
     "output_type": "stream",
     "text": [
      "[0.410868]\n",
      "101\n",
      "1 day input [0.85349477 0.82663952 0.82568035 0.81908641 0.79055268 0.76861288\n",
      " 0.76981177 0.75710349 0.75062942 0.74451507 0.74211728 0.73971949\n",
      " 0.75002997 0.74151783 0.76082005 0.75518522 0.74295645 0.73756141\n",
      " 0.74175755 0.74091838 0.7392399  0.72077686 0.70674982 0.73744155\n",
      " 0.72868962 0.71933824 0.70123485 0.69619947 0.69607961 0.65951325\n",
      " 0.62474523 0.59165571 0.62306675 0.65603642 0.69068457 0.69308236\n",
      " 0.68121326 0.67785636 0.66970387 0.65016187 0.65531711 0.6424889\n",
      " 0.65279945 0.6324182  0.62522482 0.6191104  0.63121931 0.61743199\n",
      " 0.63901214 0.63121931 0.62846179 0.6224673  0.61803144 0.6215082\n",
      " 0.58877832 0.5574871  0.52775447 0.49958039 0.47284497 0.44742837\n",
      " 0.42321064 0.40019184 0.3783719  0.3991128  0.3772929  0.35667185\n",
      " 0.33700995 0.31830715 0.30056349 0.31734805 0.33497181 0.35355472\n",
      " 0.37297686 0.35247572 0.33305361 0.31459056 0.29708669 0.31375136\n",
      " 0.33125526 0.34959837 0.36890062 0.38916197 0.41038246 0.43268192\n",
      " 0.45426206 0.47871959 0.45294331 0.44682892 0.43939575 0.44239299\n",
      " 0.4190145  0.44179354 0.45222396 0.44586979 0.42476923 0.40175039\n",
      " 0.37981059 0.40055149 0.42237143 0.41086799]\n",
      "1 day output [[0.4128832]]\n",
      "2 day input [0.82663952 0.82568035 0.81908641 0.79055268 0.76861288 0.76981177\n",
      " 0.75710349 0.75062942 0.74451507 0.74211728 0.73971949 0.75002997\n",
      " 0.74151783 0.76082005 0.75518522 0.74295645 0.73756141 0.74175755\n",
      " 0.74091838 0.7392399  0.72077686 0.70674982 0.73744155 0.72868962\n",
      " 0.71933824 0.70123485 0.69619947 0.69607961 0.65951325 0.62474523\n",
      " 0.59165571 0.62306675 0.65603642 0.69068457 0.69308236 0.68121326\n",
      " 0.67785636 0.66970387 0.65016187 0.65531711 0.6424889  0.65279945\n",
      " 0.6324182  0.62522482 0.6191104  0.63121931 0.61743199 0.63901214\n",
      " 0.63121931 0.62846179 0.6224673  0.61803144 0.6215082  0.58877832\n",
      " 0.5574871  0.52775447 0.49958039 0.47284497 0.44742837 0.42321064\n",
      " 0.40019184 0.3783719  0.3991128  0.3772929  0.35667185 0.33700995\n",
      " 0.31830715 0.30056349 0.31734805 0.33497181 0.35355472 0.37297686\n",
      " 0.35247572 0.33305361 0.31459056 0.29708669 0.31375136 0.33125526\n",
      " 0.34959837 0.36890062 0.38916197 0.41038246 0.43268192 0.45426206\n",
      " 0.47871959 0.45294331 0.44682892 0.43939575 0.44239299 0.4190145\n",
      " 0.44179354 0.45222396 0.44586979 0.42476923 0.40175039 0.37981059\n",
      " 0.40055149 0.42237143 0.41086799 0.41288319]\n",
      "2 day output [[0.39659357]]\n",
      "3 day input [0.82568035 0.81908641 0.79055268 0.76861288 0.76981177 0.75710349\n",
      " 0.75062942 0.74451507 0.74211728 0.73971949 0.75002997 0.74151783\n",
      " 0.76082005 0.75518522 0.74295645 0.73756141 0.74175755 0.74091838\n",
      " 0.7392399  0.72077686 0.70674982 0.73744155 0.72868962 0.71933824\n",
      " 0.70123485 0.69619947 0.69607961 0.65951325 0.62474523 0.59165571\n",
      " 0.62306675 0.65603642 0.69068457 0.69308236 0.68121326 0.67785636\n",
      " 0.66970387 0.65016187 0.65531711 0.6424889  0.65279945 0.6324182\n",
      " 0.62522482 0.6191104  0.63121931 0.61743199 0.63901214 0.63121931\n",
      " 0.62846179 0.6224673  0.61803144 0.6215082  0.58877832 0.5574871\n",
      " 0.52775447 0.49958039 0.47284497 0.44742837 0.42321064 0.40019184\n",
      " 0.3783719  0.3991128  0.3772929  0.35667185 0.33700995 0.31830715\n",
      " 0.30056349 0.31734805 0.33497181 0.35355472 0.37297686 0.35247572\n",
      " 0.33305361 0.31459056 0.29708669 0.31375136 0.33125526 0.34959837\n",
      " 0.36890062 0.38916197 0.41038246 0.43268192 0.45426206 0.47871959\n",
      " 0.45294331 0.44682892 0.43939575 0.44239299 0.4190145  0.44179354\n",
      " 0.45222396 0.44586979 0.42476923 0.40175039 0.37981059 0.40055149\n",
      " 0.42237143 0.41086799 0.41288319 0.39659357]\n",
      "3 day output [[0.3741722]]\n",
      "4 day input [0.81908641 0.79055268 0.76861288 0.76981177 0.75710349 0.75062942\n",
      " 0.74451507 0.74211728 0.73971949 0.75002997 0.74151783 0.76082005\n",
      " 0.75518522 0.74295645 0.73756141 0.74175755 0.74091838 0.7392399\n",
      " 0.72077686 0.70674982 0.73744155 0.72868962 0.71933824 0.70123485\n",
      " 0.69619947 0.69607961 0.65951325 0.62474523 0.59165571 0.62306675\n",
      " 0.65603642 0.69068457 0.69308236 0.68121326 0.67785636 0.66970387\n",
      " 0.65016187 0.65531711 0.6424889  0.65279945 0.6324182  0.62522482\n",
      " 0.6191104  0.63121931 0.61743199 0.63901214 0.63121931 0.62846179\n",
      " 0.6224673  0.61803144 0.6215082  0.58877832 0.5574871  0.52775447\n",
      " 0.49958039 0.47284497 0.44742837 0.42321064 0.40019184 0.3783719\n",
      " 0.3991128  0.3772929  0.35667185 0.33700995 0.31830715 0.30056349\n",
      " 0.31734805 0.33497181 0.35355472 0.37297686 0.35247572 0.33305361\n",
      " 0.31459056 0.29708669 0.31375136 0.33125526 0.34959837 0.36890062\n",
      " 0.38916197 0.41038246 0.43268192 0.45426206 0.47871959 0.45294331\n",
      " 0.44682892 0.43939575 0.44239299 0.4190145  0.44179354 0.45222396\n",
      " 0.44586979 0.42476923 0.40175039 0.37981059 0.40055149 0.42237143\n",
      " 0.41086799 0.41288319 0.39659357 0.37417221]\n",
      "4 day output [[0.35254964]]\n",
      "5 day input [0.79055268 0.76861288 0.76981177 0.75710349 0.75062942 0.74451507\n",
      " 0.74211728 0.73971949 0.75002997 0.74151783 0.76082005 0.75518522\n",
      " 0.74295645 0.73756141 0.74175755 0.74091838 0.7392399  0.72077686\n",
      " 0.70674982 0.73744155 0.72868962 0.71933824 0.70123485 0.69619947\n",
      " 0.69607961 0.65951325 0.62474523 0.59165571 0.62306675 0.65603642\n",
      " 0.69068457 0.69308236 0.68121326 0.67785636 0.66970387 0.65016187\n",
      " 0.65531711 0.6424889  0.65279945 0.6324182  0.62522482 0.6191104\n",
      " 0.63121931 0.61743199 0.63901214 0.63121931 0.62846179 0.6224673\n",
      " 0.61803144 0.6215082  0.58877832 0.5574871  0.52775447 0.49958039\n",
      " 0.47284497 0.44742837 0.42321064 0.40019184 0.3783719  0.3991128\n",
      " 0.3772929  0.35667185 0.33700995 0.31830715 0.30056349 0.31734805\n",
      " 0.33497181 0.35355472 0.37297686 0.35247572 0.33305361 0.31459056\n",
      " 0.29708669 0.31375136 0.33125526 0.34959837 0.36890062 0.38916197\n",
      " 0.41038246 0.43268192 0.45426206 0.47871959 0.45294331 0.44682892\n",
      " 0.43939575 0.44239299 0.4190145  0.44179354 0.45222396 0.44586979\n",
      " 0.42476923 0.40175039 0.37981059 0.40055149 0.42237143 0.41086799\n",
      " 0.41288319 0.39659357 0.37417221 0.35254964]\n",
      "5 day output [[0.33581814]]\n",
      "6 day input [0.76861288 0.76981177 0.75710349 0.75062942 0.74451507 0.74211728\n",
      " 0.73971949 0.75002997 0.74151783 0.76082005 0.75518522 0.74295645\n",
      " 0.73756141 0.74175755 0.74091838 0.7392399  0.72077686 0.70674982\n",
      " 0.73744155 0.72868962 0.71933824 0.70123485 0.69619947 0.69607961\n",
      " 0.65951325 0.62474523 0.59165571 0.62306675 0.65603642 0.69068457\n",
      " 0.69308236 0.68121326 0.67785636 0.66970387 0.65016187 0.65531711\n",
      " 0.6424889  0.65279945 0.6324182  0.62522482 0.6191104  0.63121931\n",
      " 0.61743199 0.63901214 0.63121931 0.62846179 0.6224673  0.61803144\n",
      " 0.6215082  0.58877832 0.5574871  0.52775447 0.49958039 0.47284497\n",
      " 0.44742837 0.42321064 0.40019184 0.3783719  0.3991128  0.3772929\n",
      " 0.35667185 0.33700995 0.31830715 0.30056349 0.31734805 0.33497181\n",
      " 0.35355472 0.37297686 0.35247572 0.33305361 0.31459056 0.29708669\n",
      " 0.31375136 0.33125526 0.34959837 0.36890062 0.38916197 0.41038246\n",
      " 0.43268192 0.45426206 0.47871959 0.45294331 0.44682892 0.43939575\n",
      " 0.44239299 0.4190145  0.44179354 0.45222396 0.44586979 0.42476923\n",
      " 0.40175039 0.37981059 0.40055149 0.42237143 0.41086799 0.41288319\n",
      " 0.39659357 0.37417221 0.35254964 0.33581814]\n",
      "6 day output [[0.3254596]]\n",
      "7 day input [0.76981177 0.75710349 0.75062942 0.74451507 0.74211728 0.73971949\n",
      " 0.75002997 0.74151783 0.76082005 0.75518522 0.74295645 0.73756141\n",
      " 0.74175755 0.74091838 0.7392399  0.72077686 0.70674982 0.73744155\n",
      " 0.72868962 0.71933824 0.70123485 0.69619947 0.69607961 0.65951325\n",
      " 0.62474523 0.59165571 0.62306675 0.65603642 0.69068457 0.69308236\n",
      " 0.68121326 0.67785636 0.66970387 0.65016187 0.65531711 0.6424889\n",
      " 0.65279945 0.6324182  0.62522482 0.6191104  0.63121931 0.61743199\n",
      " 0.63901214 0.63121931 0.62846179 0.6224673  0.61803144 0.6215082\n",
      " 0.58877832 0.5574871  0.52775447 0.49958039 0.47284497 0.44742837\n",
      " 0.42321064 0.40019184 0.3783719  0.3991128  0.3772929  0.35667185\n",
      " 0.33700995 0.31830715 0.30056349 0.31734805 0.33497181 0.35355472\n",
      " 0.37297686 0.35247572 0.33305361 0.31459056 0.29708669 0.31375136\n",
      " 0.33125526 0.34959837 0.36890062 0.38916197 0.41038246 0.43268192\n",
      " 0.45426206 0.47871959 0.45294331 0.44682892 0.43939575 0.44239299\n",
      " 0.4190145  0.44179354 0.45222396 0.44586979 0.42476923 0.40175039\n",
      " 0.37981059 0.40055149 0.42237143 0.41086799 0.41288319 0.39659357\n",
      " 0.37417221 0.35254964 0.33581814 0.3254596 ]\n",
      "7 day output [[0.32064912]]\n",
      "8 day input [0.75710349 0.75062942 0.74451507 0.74211728 0.73971949 0.75002997\n",
      " 0.74151783 0.76082005 0.75518522 0.74295645 0.73756141 0.74175755\n",
      " 0.74091838 0.7392399  0.72077686 0.70674982 0.73744155 0.72868962\n",
      " 0.71933824 0.70123485 0.69619947 0.69607961 0.65951325 0.62474523\n",
      " 0.59165571 0.62306675 0.65603642 0.69068457 0.69308236 0.68121326\n",
      " 0.67785636 0.66970387 0.65016187 0.65531711 0.6424889  0.65279945\n",
      " 0.6324182  0.62522482 0.6191104  0.63121931 0.61743199 0.63901214\n",
      " 0.63121931 0.62846179 0.6224673  0.61803144 0.6215082  0.58877832\n",
      " 0.5574871  0.52775447 0.49958039 0.47284497 0.44742837 0.42321064\n",
      " 0.40019184 0.3783719  0.3991128  0.3772929  0.35667185 0.33700995\n",
      " 0.31830715 0.30056349 0.31734805 0.33497181 0.35355472 0.37297686\n",
      " 0.35247572 0.33305361 0.31459056 0.29708669 0.31375136 0.33125526\n",
      " 0.34959837 0.36890062 0.38916197 0.41038246 0.43268192 0.45426206\n",
      " 0.47871959 0.45294331 0.44682892 0.43939575 0.44239299 0.4190145\n",
      " 0.44179354 0.45222396 0.44586979 0.42476923 0.40175039 0.37981059\n",
      " 0.40055149 0.42237143 0.41086799 0.41288319 0.39659357 0.37417221\n",
      " 0.35254964 0.33581814 0.3254596  0.32064912]\n"
     ]
    },
    {
     "name": "stdout",
     "output_type": "stream",
     "text": [
      "8 day output [[0.3192292]]\n",
      "9 day input [0.75062942 0.74451507 0.74211728 0.73971949 0.75002997 0.74151783\n",
      " 0.76082005 0.75518522 0.74295645 0.73756141 0.74175755 0.74091838\n",
      " 0.7392399  0.72077686 0.70674982 0.73744155 0.72868962 0.71933824\n",
      " 0.70123485 0.69619947 0.69607961 0.65951325 0.62474523 0.59165571\n",
      " 0.62306675 0.65603642 0.69068457 0.69308236 0.68121326 0.67785636\n",
      " 0.66970387 0.65016187 0.65531711 0.6424889  0.65279945 0.6324182\n",
      " 0.62522482 0.6191104  0.63121931 0.61743199 0.63901214 0.63121931\n",
      " 0.62846179 0.6224673  0.61803144 0.6215082  0.58877832 0.5574871\n",
      " 0.52775447 0.49958039 0.47284497 0.44742837 0.42321064 0.40019184\n",
      " 0.3783719  0.3991128  0.3772929  0.35667185 0.33700995 0.31830715\n",
      " 0.30056349 0.31734805 0.33497181 0.35355472 0.37297686 0.35247572\n",
      " 0.33305361 0.31459056 0.29708669 0.31375136 0.33125526 0.34959837\n",
      " 0.36890062 0.38916197 0.41038246 0.43268192 0.45426206 0.47871959\n",
      " 0.45294331 0.44682892 0.43939575 0.44239299 0.4190145  0.44179354\n",
      " 0.45222396 0.44586979 0.42476923 0.40175039 0.37981059 0.40055149\n",
      " 0.42237143 0.41086799 0.41288319 0.39659357 0.37417221 0.35254964\n",
      " 0.33581814 0.3254596  0.32064912 0.31922919]\n",
      "9 day output [[0.318785]]\n",
      "10 day input [0.74451507 0.74211728 0.73971949 0.75002997 0.74151783 0.76082005\n",
      " 0.75518522 0.74295645 0.73756141 0.74175755 0.74091838 0.7392399\n",
      " 0.72077686 0.70674982 0.73744155 0.72868962 0.71933824 0.70123485\n",
      " 0.69619947 0.69607961 0.65951325 0.62474523 0.59165571 0.62306675\n",
      " 0.65603642 0.69068457 0.69308236 0.68121326 0.67785636 0.66970387\n",
      " 0.65016187 0.65531711 0.6424889  0.65279945 0.6324182  0.62522482\n",
      " 0.6191104  0.63121931 0.61743199 0.63901214 0.63121931 0.62846179\n",
      " 0.6224673  0.61803144 0.6215082  0.58877832 0.5574871  0.52775447\n",
      " 0.49958039 0.47284497 0.44742837 0.42321064 0.40019184 0.3783719\n",
      " 0.3991128  0.3772929  0.35667185 0.33700995 0.31830715 0.30056349\n",
      " 0.31734805 0.33497181 0.35355472 0.37297686 0.35247572 0.33305361\n",
      " 0.31459056 0.29708669 0.31375136 0.33125526 0.34959837 0.36890062\n",
      " 0.38916197 0.41038246 0.43268192 0.45426206 0.47871959 0.45294331\n",
      " 0.44682892 0.43939575 0.44239299 0.4190145  0.44179354 0.45222396\n",
      " 0.44586979 0.42476923 0.40175039 0.37981059 0.40055149 0.42237143\n",
      " 0.41086799 0.41288319 0.39659357 0.37417221 0.35254964 0.33581814\n",
      " 0.3254596  0.32064912 0.31922919 0.31878501]\n",
      "10 day output [[0.31739947]]\n",
      "11 day input [0.74211728 0.73971949 0.75002997 0.74151783 0.76082005 0.75518522\n",
      " 0.74295645 0.73756141 0.74175755 0.74091838 0.7392399  0.72077686\n",
      " 0.70674982 0.73744155 0.72868962 0.71933824 0.70123485 0.69619947\n",
      " 0.69607961 0.65951325 0.62474523 0.59165571 0.62306675 0.65603642\n",
      " 0.69068457 0.69308236 0.68121326 0.67785636 0.66970387 0.65016187\n",
      " 0.65531711 0.6424889  0.65279945 0.6324182  0.62522482 0.6191104\n",
      " 0.63121931 0.61743199 0.63901214 0.63121931 0.62846179 0.6224673\n",
      " 0.61803144 0.6215082  0.58877832 0.5574871  0.52775447 0.49958039\n",
      " 0.47284497 0.44742837 0.42321064 0.40019184 0.3783719  0.3991128\n",
      " 0.3772929  0.35667185 0.33700995 0.31830715 0.30056349 0.31734805\n",
      " 0.33497181 0.35355472 0.37297686 0.35247572 0.33305361 0.31459056\n",
      " 0.29708669 0.31375136 0.33125526 0.34959837 0.36890062 0.38916197\n",
      " 0.41038246 0.43268192 0.45426206 0.47871959 0.45294331 0.44682892\n",
      " 0.43939575 0.44239299 0.4190145  0.44179354 0.45222396 0.44586979\n",
      " 0.42476923 0.40175039 0.37981059 0.40055149 0.42237143 0.41086799\n",
      " 0.41288319 0.39659357 0.37417221 0.35254964 0.33581814 0.3254596\n",
      " 0.32064912 0.31922919 0.31878501 0.31739947]\n",
      "11 day output [[0.31402272]]\n",
      "12 day input [0.73971949 0.75002997 0.74151783 0.76082005 0.75518522 0.74295645\n",
      " 0.73756141 0.74175755 0.74091838 0.7392399  0.72077686 0.70674982\n",
      " 0.73744155 0.72868962 0.71933824 0.70123485 0.69619947 0.69607961\n",
      " 0.65951325 0.62474523 0.59165571 0.62306675 0.65603642 0.69068457\n",
      " 0.69308236 0.68121326 0.67785636 0.66970387 0.65016187 0.65531711\n",
      " 0.6424889  0.65279945 0.6324182  0.62522482 0.6191104  0.63121931\n",
      " 0.61743199 0.63901214 0.63121931 0.62846179 0.6224673  0.61803144\n",
      " 0.6215082  0.58877832 0.5574871  0.52775447 0.49958039 0.47284497\n",
      " 0.44742837 0.42321064 0.40019184 0.3783719  0.3991128  0.3772929\n",
      " 0.35667185 0.33700995 0.31830715 0.30056349 0.31734805 0.33497181\n",
      " 0.35355472 0.37297686 0.35247572 0.33305361 0.31459056 0.29708669\n",
      " 0.31375136 0.33125526 0.34959837 0.36890062 0.38916197 0.41038246\n",
      " 0.43268192 0.45426206 0.47871959 0.45294331 0.44682892 0.43939575\n",
      " 0.44239299 0.4190145  0.44179354 0.45222396 0.44586979 0.42476923\n",
      " 0.40175039 0.37981059 0.40055149 0.42237143 0.41086799 0.41288319\n",
      " 0.39659357 0.37417221 0.35254964 0.33581814 0.3254596  0.32064912\n",
      " 0.31922919 0.31878501 0.31739947 0.31402272]\n",
      "12 day output [[0.30851942]]\n",
      "13 day input [0.75002997 0.74151783 0.76082005 0.75518522 0.74295645 0.73756141\n",
      " 0.74175755 0.74091838 0.7392399  0.72077686 0.70674982 0.73744155\n",
      " 0.72868962 0.71933824 0.70123485 0.69619947 0.69607961 0.65951325\n",
      " 0.62474523 0.59165571 0.62306675 0.65603642 0.69068457 0.69308236\n",
      " 0.68121326 0.67785636 0.66970387 0.65016187 0.65531711 0.6424889\n",
      " 0.65279945 0.6324182  0.62522482 0.6191104  0.63121931 0.61743199\n",
      " 0.63901214 0.63121931 0.62846179 0.6224673  0.61803144 0.6215082\n",
      " 0.58877832 0.5574871  0.52775447 0.49958039 0.47284497 0.44742837\n",
      " 0.42321064 0.40019184 0.3783719  0.3991128  0.3772929  0.35667185\n",
      " 0.33700995 0.31830715 0.30056349 0.31734805 0.33497181 0.35355472\n",
      " 0.37297686 0.35247572 0.33305361 0.31459056 0.29708669 0.31375136\n",
      " 0.33125526 0.34959837 0.36890062 0.38916197 0.41038246 0.43268192\n",
      " 0.45426206 0.47871959 0.45294331 0.44682892 0.43939575 0.44239299\n",
      " 0.4190145  0.44179354 0.45222396 0.44586979 0.42476923 0.40175039\n",
      " 0.37981059 0.40055149 0.42237143 0.41086799 0.41288319 0.39659357\n",
      " 0.37417221 0.35254964 0.33581814 0.3254596  0.32064912 0.31922919\n",
      " 0.31878501 0.31739947 0.31402272 0.30851942]\n",
      "13 day output [[0.3014711]]\n",
      "14 day input [0.74151783 0.76082005 0.75518522 0.74295645 0.73756141 0.74175755\n",
      " 0.74091838 0.7392399  0.72077686 0.70674982 0.73744155 0.72868962\n",
      " 0.71933824 0.70123485 0.69619947 0.69607961 0.65951325 0.62474523\n",
      " 0.59165571 0.62306675 0.65603642 0.69068457 0.69308236 0.68121326\n",
      " 0.67785636 0.66970387 0.65016187 0.65531711 0.6424889  0.65279945\n",
      " 0.6324182  0.62522482 0.6191104  0.63121931 0.61743199 0.63901214\n",
      " 0.63121931 0.62846179 0.6224673  0.61803144 0.6215082  0.58877832\n",
      " 0.5574871  0.52775447 0.49958039 0.47284497 0.44742837 0.42321064\n",
      " 0.40019184 0.3783719  0.3991128  0.3772929  0.35667185 0.33700995\n",
      " 0.31830715 0.30056349 0.31734805 0.33497181 0.35355472 0.37297686\n",
      " 0.35247572 0.33305361 0.31459056 0.29708669 0.31375136 0.33125526\n",
      " 0.34959837 0.36890062 0.38916197 0.41038246 0.43268192 0.45426206\n",
      " 0.47871959 0.45294331 0.44682892 0.43939575 0.44239299 0.4190145\n",
      " 0.44179354 0.45222396 0.44586979 0.42476923 0.40175039 0.37981059\n",
      " 0.40055149 0.42237143 0.41086799 0.41288319 0.39659357 0.37417221\n",
      " 0.35254964 0.33581814 0.3254596  0.32064912 0.31922919 0.31878501\n",
      " 0.31739947 0.31402272 0.30851942 0.30147111]\n",
      "14 day output [[0.29382834]]\n",
      "15 day input [0.76082005 0.75518522 0.74295645 0.73756141 0.74175755 0.74091838\n",
      " 0.7392399  0.72077686 0.70674982 0.73744155 0.72868962 0.71933824\n",
      " 0.70123485 0.69619947 0.69607961 0.65951325 0.62474523 0.59165571\n",
      " 0.62306675 0.65603642 0.69068457 0.69308236 0.68121326 0.67785636\n",
      " 0.66970387 0.65016187 0.65531711 0.6424889  0.65279945 0.6324182\n",
      " 0.62522482 0.6191104  0.63121931 0.61743199 0.63901214 0.63121931\n",
      " 0.62846179 0.6224673  0.61803144 0.6215082  0.58877832 0.5574871\n",
      " 0.52775447 0.49958039 0.47284497 0.44742837 0.42321064 0.40019184\n",
      " 0.3783719  0.3991128  0.3772929  0.35667185 0.33700995 0.31830715\n",
      " 0.30056349 0.31734805 0.33497181 0.35355472 0.37297686 0.35247572\n",
      " 0.33305361 0.31459056 0.29708669 0.31375136 0.33125526 0.34959837\n",
      " 0.36890062 0.38916197 0.41038246 0.43268192 0.45426206 0.47871959\n",
      " 0.45294331 0.44682892 0.43939575 0.44239299 0.4190145  0.44179354\n",
      " 0.45222396 0.44586979 0.42476923 0.40175039 0.37981059 0.40055149\n",
      " 0.42237143 0.41086799 0.41288319 0.39659357 0.37417221 0.35254964\n",
      " 0.33581814 0.3254596  0.32064912 0.31922919 0.31878501 0.31739947\n",
      " 0.31402272 0.30851942 0.30147111 0.29382834]\n",
      "15 day output [[0.2865368]]\n",
      "16 day input [0.75518522 0.74295645 0.73756141 0.74175755 0.74091838 0.7392399\n",
      " 0.72077686 0.70674982 0.73744155 0.72868962 0.71933824 0.70123485\n",
      " 0.69619947 0.69607961 0.65951325 0.62474523 0.59165571 0.62306675\n",
      " 0.65603642 0.69068457 0.69308236 0.68121326 0.67785636 0.66970387\n",
      " 0.65016187 0.65531711 0.6424889  0.65279945 0.6324182  0.62522482\n",
      " 0.6191104  0.63121931 0.61743199 0.63901214 0.63121931 0.62846179\n",
      " 0.6224673  0.61803144 0.6215082  0.58877832 0.5574871  0.52775447\n",
      " 0.49958039 0.47284497 0.44742837 0.42321064 0.40019184 0.3783719\n",
      " 0.3991128  0.3772929  0.35667185 0.33700995 0.31830715 0.30056349\n",
      " 0.31734805 0.33497181 0.35355472 0.37297686 0.35247572 0.33305361\n",
      " 0.31459056 0.29708669 0.31375136 0.33125526 0.34959837 0.36890062\n",
      " 0.38916197 0.41038246 0.43268192 0.45426206 0.47871959 0.45294331\n",
      " 0.44682892 0.43939575 0.44239299 0.4190145  0.44179354 0.45222396\n",
      " 0.44586979 0.42476923 0.40175039 0.37981059 0.40055149 0.42237143\n",
      " 0.41086799 0.41288319 0.39659357 0.37417221 0.35254964 0.33581814\n",
      " 0.3254596  0.32064912 0.31922919 0.31878501 0.31739947 0.31402272\n",
      " 0.30851942 0.30147111 0.29382834 0.28653681]\n"
     ]
    },
    {
     "name": "stdout",
     "output_type": "stream",
     "text": [
      "16 day output [[0.28025752]]\n",
      "17 day input [0.74295645 0.73756141 0.74175755 0.74091838 0.7392399  0.72077686\n",
      " 0.70674982 0.73744155 0.72868962 0.71933824 0.70123485 0.69619947\n",
      " 0.69607961 0.65951325 0.62474523 0.59165571 0.62306675 0.65603642\n",
      " 0.69068457 0.69308236 0.68121326 0.67785636 0.66970387 0.65016187\n",
      " 0.65531711 0.6424889  0.65279945 0.6324182  0.62522482 0.6191104\n",
      " 0.63121931 0.61743199 0.63901214 0.63121931 0.62846179 0.6224673\n",
      " 0.61803144 0.6215082  0.58877832 0.5574871  0.52775447 0.49958039\n",
      " 0.47284497 0.44742837 0.42321064 0.40019184 0.3783719  0.3991128\n",
      " 0.3772929  0.35667185 0.33700995 0.31830715 0.30056349 0.31734805\n",
      " 0.33497181 0.35355472 0.37297686 0.35247572 0.33305361 0.31459056\n",
      " 0.29708669 0.31375136 0.33125526 0.34959837 0.36890062 0.38916197\n",
      " 0.41038246 0.43268192 0.45426206 0.47871959 0.45294331 0.44682892\n",
      " 0.43939575 0.44239299 0.4190145  0.44179354 0.45222396 0.44586979\n",
      " 0.42476923 0.40175039 0.37981059 0.40055149 0.42237143 0.41086799\n",
      " 0.41288319 0.39659357 0.37417221 0.35254964 0.33581814 0.3254596\n",
      " 0.32064912 0.31922919 0.31878501 0.31739947 0.31402272 0.30851942\n",
      " 0.30147111 0.29382834 0.28653681 0.28025752]\n",
      "17 day output [[0.2752509]]\n",
      "18 day input [0.73756141 0.74175755 0.74091838 0.7392399  0.72077686 0.70674982\n",
      " 0.73744155 0.72868962 0.71933824 0.70123485 0.69619947 0.69607961\n",
      " 0.65951325 0.62474523 0.59165571 0.62306675 0.65603642 0.69068457\n",
      " 0.69308236 0.68121326 0.67785636 0.66970387 0.65016187 0.65531711\n",
      " 0.6424889  0.65279945 0.6324182  0.62522482 0.6191104  0.63121931\n",
      " 0.61743199 0.63901214 0.63121931 0.62846179 0.6224673  0.61803144\n",
      " 0.6215082  0.58877832 0.5574871  0.52775447 0.49958039 0.47284497\n",
      " 0.44742837 0.42321064 0.40019184 0.3783719  0.3991128  0.3772929\n",
      " 0.35667185 0.33700995 0.31830715 0.30056349 0.31734805 0.33497181\n",
      " 0.35355472 0.37297686 0.35247572 0.33305361 0.31459056 0.29708669\n",
      " 0.31375136 0.33125526 0.34959837 0.36890062 0.38916197 0.41038246\n",
      " 0.43268192 0.45426206 0.47871959 0.45294331 0.44682892 0.43939575\n",
      " 0.44239299 0.4190145  0.44179354 0.45222396 0.44586979 0.42476923\n",
      " 0.40175039 0.37981059 0.40055149 0.42237143 0.41086799 0.41288319\n",
      " 0.39659357 0.37417221 0.35254964 0.33581814 0.3254596  0.32064912\n",
      " 0.31922919 0.31878501 0.31739947 0.31402272 0.30851942 0.30147111\n",
      " 0.29382834 0.28653681 0.28025752 0.27525091]\n",
      "18 day output [[0.27141175]]\n",
      "19 day input [0.74175755 0.74091838 0.7392399  0.72077686 0.70674982 0.73744155\n",
      " 0.72868962 0.71933824 0.70123485 0.69619947 0.69607961 0.65951325\n",
      " 0.62474523 0.59165571 0.62306675 0.65603642 0.69068457 0.69308236\n",
      " 0.68121326 0.67785636 0.66970387 0.65016187 0.65531711 0.6424889\n",
      " 0.65279945 0.6324182  0.62522482 0.6191104  0.63121931 0.61743199\n",
      " 0.63901214 0.63121931 0.62846179 0.6224673  0.61803144 0.6215082\n",
      " 0.58877832 0.5574871  0.52775447 0.49958039 0.47284497 0.44742837\n",
      " 0.42321064 0.40019184 0.3783719  0.3991128  0.3772929  0.35667185\n",
      " 0.33700995 0.31830715 0.30056349 0.31734805 0.33497181 0.35355472\n",
      " 0.37297686 0.35247572 0.33305361 0.31459056 0.29708669 0.31375136\n",
      " 0.33125526 0.34959837 0.36890062 0.38916197 0.41038246 0.43268192\n",
      " 0.45426206 0.47871959 0.45294331 0.44682892 0.43939575 0.44239299\n",
      " 0.4190145  0.44179354 0.45222396 0.44586979 0.42476923 0.40175039\n",
      " 0.37981059 0.40055149 0.42237143 0.41086799 0.41288319 0.39659357\n",
      " 0.37417221 0.35254964 0.33581814 0.3254596  0.32064912 0.31922919\n",
      " 0.31878501 0.31739947 0.31402272 0.30851942 0.30147111 0.29382834\n",
      " 0.28653681 0.28025752 0.27525091 0.27141175]\n",
      "19 day output [[0.26839906]]\n",
      "20 day input [0.74091838 0.7392399  0.72077686 0.70674982 0.73744155 0.72868962\n",
      " 0.71933824 0.70123485 0.69619947 0.69607961 0.65951325 0.62474523\n",
      " 0.59165571 0.62306675 0.65603642 0.69068457 0.69308236 0.68121326\n",
      " 0.67785636 0.66970387 0.65016187 0.65531711 0.6424889  0.65279945\n",
      " 0.6324182  0.62522482 0.6191104  0.63121931 0.61743199 0.63901214\n",
      " 0.63121931 0.62846179 0.6224673  0.61803144 0.6215082  0.58877832\n",
      " 0.5574871  0.52775447 0.49958039 0.47284497 0.44742837 0.42321064\n",
      " 0.40019184 0.3783719  0.3991128  0.3772929  0.35667185 0.33700995\n",
      " 0.31830715 0.30056349 0.31734805 0.33497181 0.35355472 0.37297686\n",
      " 0.35247572 0.33305361 0.31459056 0.29708669 0.31375136 0.33125526\n",
      " 0.34959837 0.36890062 0.38916197 0.41038246 0.43268192 0.45426206\n",
      " 0.47871959 0.45294331 0.44682892 0.43939575 0.44239299 0.4190145\n",
      " 0.44179354 0.45222396 0.44586979 0.42476923 0.40175039 0.37981059\n",
      " 0.40055149 0.42237143 0.41086799 0.41288319 0.39659357 0.37417221\n",
      " 0.35254964 0.33581814 0.3254596  0.32064912 0.31922919 0.31878501\n",
      " 0.31739947 0.31402272 0.30851942 0.30147111 0.29382834 0.28653681\n",
      " 0.28025752 0.27525091 0.27141175 0.26839906]\n",
      "20 day output [[0.26578885]]\n",
      "21 day input [0.7392399  0.72077686 0.70674982 0.73744155 0.72868962 0.71933824\n",
      " 0.70123485 0.69619947 0.69607961 0.65951325 0.62474523 0.59165571\n",
      " 0.62306675 0.65603642 0.69068457 0.69308236 0.68121326 0.67785636\n",
      " 0.66970387 0.65016187 0.65531711 0.6424889  0.65279945 0.6324182\n",
      " 0.62522482 0.6191104  0.63121931 0.61743199 0.63901214 0.63121931\n",
      " 0.62846179 0.6224673  0.61803144 0.6215082  0.58877832 0.5574871\n",
      " 0.52775447 0.49958039 0.47284497 0.44742837 0.42321064 0.40019184\n",
      " 0.3783719  0.3991128  0.3772929  0.35667185 0.33700995 0.31830715\n",
      " 0.30056349 0.31734805 0.33497181 0.35355472 0.37297686 0.35247572\n",
      " 0.33305361 0.31459056 0.29708669 0.31375136 0.33125526 0.34959837\n",
      " 0.36890062 0.38916197 0.41038246 0.43268192 0.45426206 0.47871959\n",
      " 0.45294331 0.44682892 0.43939575 0.44239299 0.4190145  0.44179354\n",
      " 0.45222396 0.44586979 0.42476923 0.40175039 0.37981059 0.40055149\n",
      " 0.42237143 0.41086799 0.41288319 0.39659357 0.37417221 0.35254964\n",
      " 0.33581814 0.3254596  0.32064912 0.31922919 0.31878501 0.31739947\n",
      " 0.31402272 0.30851942 0.30147111 0.29382834 0.28653681 0.28025752\n",
      " 0.27525091 0.27141175 0.26839906 0.26578885]\n",
      "21 day output [[0.26320308]]\n",
      "22 day input [0.72077686 0.70674982 0.73744155 0.72868962 0.71933824 0.70123485\n",
      " 0.69619947 0.69607961 0.65951325 0.62474523 0.59165571 0.62306675\n",
      " 0.65603642 0.69068457 0.69308236 0.68121326 0.67785636 0.66970387\n",
      " 0.65016187 0.65531711 0.6424889  0.65279945 0.6324182  0.62522482\n",
      " 0.6191104  0.63121931 0.61743199 0.63901214 0.63121931 0.62846179\n",
      " 0.6224673  0.61803144 0.6215082  0.58877832 0.5574871  0.52775447\n",
      " 0.49958039 0.47284497 0.44742837 0.42321064 0.40019184 0.3783719\n",
      " 0.3991128  0.3772929  0.35667185 0.33700995 0.31830715 0.30056349\n",
      " 0.31734805 0.33497181 0.35355472 0.37297686 0.35247572 0.33305361\n",
      " 0.31459056 0.29708669 0.31375136 0.33125526 0.34959837 0.36890062\n",
      " 0.38916197 0.41038246 0.43268192 0.45426206 0.47871959 0.45294331\n",
      " 0.44682892 0.43939575 0.44239299 0.4190145  0.44179354 0.45222396\n",
      " 0.44586979 0.42476923 0.40175039 0.37981059 0.40055149 0.42237143\n",
      " 0.41086799 0.41288319 0.39659357 0.37417221 0.35254964 0.33581814\n",
      " 0.3254596  0.32064912 0.31922919 0.31878501 0.31739947 0.31402272\n",
      " 0.30851942 0.30147111 0.29382834 0.28653681 0.28025752 0.27525091\n",
      " 0.27141175 0.26839906 0.26578885 0.26320308]\n",
      "22 day output [[0.26038828]]\n",
      "23 day input [0.70674982 0.73744155 0.72868962 0.71933824 0.70123485 0.69619947\n",
      " 0.69607961 0.65951325 0.62474523 0.59165571 0.62306675 0.65603642\n",
      " 0.69068457 0.69308236 0.68121326 0.67785636 0.66970387 0.65016187\n",
      " 0.65531711 0.6424889  0.65279945 0.6324182  0.62522482 0.6191104\n",
      " 0.63121931 0.61743199 0.63901214 0.63121931 0.62846179 0.6224673\n",
      " 0.61803144 0.6215082  0.58877832 0.5574871  0.52775447 0.49958039\n",
      " 0.47284497 0.44742837 0.42321064 0.40019184 0.3783719  0.3991128\n",
      " 0.3772929  0.35667185 0.33700995 0.31830715 0.30056349 0.31734805\n",
      " 0.33497181 0.35355472 0.37297686 0.35247572 0.33305361 0.31459056\n",
      " 0.29708669 0.31375136 0.33125526 0.34959837 0.36890062 0.38916197\n",
      " 0.41038246 0.43268192 0.45426206 0.47871959 0.45294331 0.44682892\n",
      " 0.43939575 0.44239299 0.4190145  0.44179354 0.45222396 0.44586979\n",
      " 0.42476923 0.40175039 0.37981059 0.40055149 0.42237143 0.41086799\n",
      " 0.41288319 0.39659357 0.37417221 0.35254964 0.33581814 0.3254596\n",
      " 0.32064912 0.31922919 0.31878501 0.31739947 0.31402272 0.30851942\n",
      " 0.30147111 0.29382834 0.28653681 0.28025752 0.27525091 0.27141175\n",
      " 0.26839906 0.26578885 0.26320308 0.26038828]\n",
      "23 day output [[0.25724196]]\n",
      "24 day input [0.73744155 0.72868962 0.71933824 0.70123485 0.69619947 0.69607961\n",
      " 0.65951325 0.62474523 0.59165571 0.62306675 0.65603642 0.69068457\n",
      " 0.69308236 0.68121326 0.67785636 0.66970387 0.65016187 0.65531711\n",
      " 0.6424889  0.65279945 0.6324182  0.62522482 0.6191104  0.63121931\n",
      " 0.61743199 0.63901214 0.63121931 0.62846179 0.6224673  0.61803144\n",
      " 0.6215082  0.58877832 0.5574871  0.52775447 0.49958039 0.47284497\n",
      " 0.44742837 0.42321064 0.40019184 0.3783719  0.3991128  0.3772929\n",
      " 0.35667185 0.33700995 0.31830715 0.30056349 0.31734805 0.33497181\n",
      " 0.35355472 0.37297686 0.35247572 0.33305361 0.31459056 0.29708669\n",
      " 0.31375136 0.33125526 0.34959837 0.36890062 0.38916197 0.41038246\n",
      " 0.43268192 0.45426206 0.47871959 0.45294331 0.44682892 0.43939575\n",
      " 0.44239299 0.4190145  0.44179354 0.45222396 0.44586979 0.42476923\n",
      " 0.40175039 0.37981059 0.40055149 0.42237143 0.41086799 0.41288319\n",
      " 0.39659357 0.37417221 0.35254964 0.33581814 0.3254596  0.32064912\n",
      " 0.31922919 0.31878501 0.31739947 0.31402272 0.30851942 0.30147111\n",
      " 0.29382834 0.28653681 0.28025752 0.27525091 0.27141175 0.26839906\n",
      " 0.26578885 0.26320308 0.26038828 0.25724196]\n"
     ]
    },
    {
     "name": "stdout",
     "output_type": "stream",
     "text": [
      "24 day output [[0.2537946]]\n",
      "25 day input [0.72868962 0.71933824 0.70123485 0.69619947 0.69607961 0.65951325\n",
      " 0.62474523 0.59165571 0.62306675 0.65603642 0.69068457 0.69308236\n",
      " 0.68121326 0.67785636 0.66970387 0.65016187 0.65531711 0.6424889\n",
      " 0.65279945 0.6324182  0.62522482 0.6191104  0.63121931 0.61743199\n",
      " 0.63901214 0.63121931 0.62846179 0.6224673  0.61803144 0.6215082\n",
      " 0.58877832 0.5574871  0.52775447 0.49958039 0.47284497 0.44742837\n",
      " 0.42321064 0.40019184 0.3783719  0.3991128  0.3772929  0.35667185\n",
      " 0.33700995 0.31830715 0.30056349 0.31734805 0.33497181 0.35355472\n",
      " 0.37297686 0.35247572 0.33305361 0.31459056 0.29708669 0.31375136\n",
      " 0.33125526 0.34959837 0.36890062 0.38916197 0.41038246 0.43268192\n",
      " 0.45426206 0.47871959 0.45294331 0.44682892 0.43939575 0.44239299\n",
      " 0.4190145  0.44179354 0.45222396 0.44586979 0.42476923 0.40175039\n",
      " 0.37981059 0.40055149 0.42237143 0.41086799 0.41288319 0.39659357\n",
      " 0.37417221 0.35254964 0.33581814 0.3254596  0.32064912 0.31922919\n",
      " 0.31878501 0.31739947 0.31402272 0.30851942 0.30147111 0.29382834\n",
      " 0.28653681 0.28025752 0.27525091 0.27141175 0.26839906 0.26578885\n",
      " 0.26320308 0.26038828 0.25724196 0.25379461]\n",
      "25 day output [[0.25016364]]\n",
      "26 day input [0.71933824 0.70123485 0.69619947 0.69607961 0.65951325 0.62474523\n",
      " 0.59165571 0.62306675 0.65603642 0.69068457 0.69308236 0.68121326\n",
      " 0.67785636 0.66970387 0.65016187 0.65531711 0.6424889  0.65279945\n",
      " 0.6324182  0.62522482 0.6191104  0.63121931 0.61743199 0.63901214\n",
      " 0.63121931 0.62846179 0.6224673  0.61803144 0.6215082  0.58877832\n",
      " 0.5574871  0.52775447 0.49958039 0.47284497 0.44742837 0.42321064\n",
      " 0.40019184 0.3783719  0.3991128  0.3772929  0.35667185 0.33700995\n",
      " 0.31830715 0.30056349 0.31734805 0.33497181 0.35355472 0.37297686\n",
      " 0.35247572 0.33305361 0.31459056 0.29708669 0.31375136 0.33125526\n",
      " 0.34959837 0.36890062 0.38916197 0.41038246 0.43268192 0.45426206\n",
      " 0.47871959 0.45294331 0.44682892 0.43939575 0.44239299 0.4190145\n",
      " 0.44179354 0.45222396 0.44586979 0.42476923 0.40175039 0.37981059\n",
      " 0.40055149 0.42237143 0.41086799 0.41288319 0.39659357 0.37417221\n",
      " 0.35254964 0.33581814 0.3254596  0.32064912 0.31922919 0.31878501\n",
      " 0.31739947 0.31402272 0.30851942 0.30147111 0.29382834 0.28653681\n",
      " 0.28025752 0.27525091 0.27141175 0.26839906 0.26578885 0.26320308\n",
      " 0.26038828 0.25724196 0.25379461 0.25016364]\n",
      "26 day output [[0.24649839]]\n",
      "27 day input [0.70123485 0.69619947 0.69607961 0.65951325 0.62474523 0.59165571\n",
      " 0.62306675 0.65603642 0.69068457 0.69308236 0.68121326 0.67785636\n",
      " 0.66970387 0.65016187 0.65531711 0.6424889  0.65279945 0.6324182\n",
      " 0.62522482 0.6191104  0.63121931 0.61743199 0.63901214 0.63121931\n",
      " 0.62846179 0.6224673  0.61803144 0.6215082  0.58877832 0.5574871\n",
      " 0.52775447 0.49958039 0.47284497 0.44742837 0.42321064 0.40019184\n",
      " 0.3783719  0.3991128  0.3772929  0.35667185 0.33700995 0.31830715\n",
      " 0.30056349 0.31734805 0.33497181 0.35355472 0.37297686 0.35247572\n",
      " 0.33305361 0.31459056 0.29708669 0.31375136 0.33125526 0.34959837\n",
      " 0.36890062 0.38916197 0.41038246 0.43268192 0.45426206 0.47871959\n",
      " 0.45294331 0.44682892 0.43939575 0.44239299 0.4190145  0.44179354\n",
      " 0.45222396 0.44586979 0.42476923 0.40175039 0.37981059 0.40055149\n",
      " 0.42237143 0.41086799 0.41288319 0.39659357 0.37417221 0.35254964\n",
      " 0.33581814 0.3254596  0.32064912 0.31922919 0.31878501 0.31739947\n",
      " 0.31402272 0.30851942 0.30147111 0.29382834 0.28653681 0.28025752\n",
      " 0.27525091 0.27141175 0.26839906 0.26578885 0.26320308 0.26038828\n",
      " 0.25724196 0.25379461 0.25016364 0.24649839]\n",
      "27 day output [[0.24293207]]\n",
      "28 day input [0.69619947 0.69607961 0.65951325 0.62474523 0.59165571 0.62306675\n",
      " 0.65603642 0.69068457 0.69308236 0.68121326 0.67785636 0.66970387\n",
      " 0.65016187 0.65531711 0.6424889  0.65279945 0.6324182  0.62522482\n",
      " 0.6191104  0.63121931 0.61743199 0.63901214 0.63121931 0.62846179\n",
      " 0.6224673  0.61803144 0.6215082  0.58877832 0.5574871  0.52775447\n",
      " 0.49958039 0.47284497 0.44742837 0.42321064 0.40019184 0.3783719\n",
      " 0.3991128  0.3772929  0.35667185 0.33700995 0.31830715 0.30056349\n",
      " 0.31734805 0.33497181 0.35355472 0.37297686 0.35247572 0.33305361\n",
      " 0.31459056 0.29708669 0.31375136 0.33125526 0.34959837 0.36890062\n",
      " 0.38916197 0.41038246 0.43268192 0.45426206 0.47871959 0.45294331\n",
      " 0.44682892 0.43939575 0.44239299 0.4190145  0.44179354 0.45222396\n",
      " 0.44586979 0.42476923 0.40175039 0.37981059 0.40055149 0.42237143\n",
      " 0.41086799 0.41288319 0.39659357 0.37417221 0.35254964 0.33581814\n",
      " 0.3254596  0.32064912 0.31922919 0.31878501 0.31739947 0.31402272\n",
      " 0.30851942 0.30147111 0.29382834 0.28653681 0.28025752 0.27525091\n",
      " 0.27141175 0.26839906 0.26578885 0.26320308 0.26038828 0.25724196\n",
      " 0.25379461 0.25016364 0.24649839 0.24293207]\n",
      "28 day output [[0.23955135]]\n",
      "29 day input [0.69607961 0.65951325 0.62474523 0.59165571 0.62306675 0.65603642\n",
      " 0.69068457 0.69308236 0.68121326 0.67785636 0.66970387 0.65016187\n",
      " 0.65531711 0.6424889  0.65279945 0.6324182  0.62522482 0.6191104\n",
      " 0.63121931 0.61743199 0.63901214 0.63121931 0.62846179 0.6224673\n",
      " 0.61803144 0.6215082  0.58877832 0.5574871  0.52775447 0.49958039\n",
      " 0.47284497 0.44742837 0.42321064 0.40019184 0.3783719  0.3991128\n",
      " 0.3772929  0.35667185 0.33700995 0.31830715 0.30056349 0.31734805\n",
      " 0.33497181 0.35355472 0.37297686 0.35247572 0.33305361 0.31459056\n",
      " 0.29708669 0.31375136 0.33125526 0.34959837 0.36890062 0.38916197\n",
      " 0.41038246 0.43268192 0.45426206 0.47871959 0.45294331 0.44682892\n",
      " 0.43939575 0.44239299 0.4190145  0.44179354 0.45222396 0.44586979\n",
      " 0.42476923 0.40175039 0.37981059 0.40055149 0.42237143 0.41086799\n",
      " 0.41288319 0.39659357 0.37417221 0.35254964 0.33581814 0.3254596\n",
      " 0.32064912 0.31922919 0.31878501 0.31739947 0.31402272 0.30851942\n",
      " 0.30147111 0.29382834 0.28653681 0.28025752 0.27525091 0.27141175\n",
      " 0.26839906 0.26578885 0.26320308 0.26038828 0.25724196 0.25379461\n",
      " 0.25016364 0.24649839 0.24293207 0.23955135]\n",
      "29 day output [[0.23638687]]\n",
      "[[0.41086798906326294], [0.4128831923007965], [0.3965935707092285], [0.3741722106933594], [0.35254964232444763], [0.3358181416988373], [0.3254595994949341], [0.320649117231369], [0.3192291855812073], [0.31878501176834106], [0.3173994719982147], [0.3140227198600769], [0.3085194230079651], [0.30147111415863037], [0.2938283383846283], [0.2865368127822876], [0.28025752305984497], [0.2752509117126465], [0.2714117467403412], [0.26839905977249146], [0.26578885316848755], [0.26320308446884155], [0.2603882849216461], [0.25724196434020996], [0.2537946105003357], [0.25016364455223083], [0.24649839103221893], [0.24293206632137299], [0.2395513504743576], [0.23638686537742615]]\n"
     ]
    }
   ],
   "source": [
    "#prediction for next 30 days\n",
    "lst_output=[]\n",
    "n_steps=100\n",
    "i=0\n",
    "while(i<30):\n",
    "    if(len(temp_input)>100):\n",
    "        x_input=np.array(temp_input[1:])\n",
    "        print(\"{} day input {}\".format(i,x_input))\n",
    "        x_input=x_input.reshape((1,n_steps,1))\n",
    "        yhat=model.predict(x_input,verbose=0)\n",
    "        print(\"{} day output {}\".format(i,yhat))\n",
    "        temp_input.extend(yhat[0].tolist())\n",
    "        temp_input=temp_input[1:]\n",
    "        lst_output.extend(yhat.tolist())\n",
    "        i=i+1\n",
    "    else:\n",
    "        x_input=x_input.reshape((1,n_steps,1))\n",
    "        yhat=model.predict(x_input,verbose=0)\n",
    "        print(yhat[0])\n",
    "        temp_input.extend(yhat[0].tolist())\n",
    "        print(len(temp_input))\n",
    "        lst_output.extend(yhat.tolist())\n",
    "        i=i+1\n",
    "\n",
    "print(lst_output)"
   ]
  },
  {
   "cell_type": "code",
   "execution_count": 56,
   "id": "8afbcb13",
   "metadata": {},
   "outputs": [],
   "source": [
    "day_new=np.arange(1,101)\n",
    "day_pred=np.arange(101,131)"
   ]
  },
  {
   "cell_type": "code",
   "execution_count": 58,
   "id": "f96b3395",
   "metadata": {},
   "outputs": [
    {
     "data": {
      "text/plain": [
       "1238"
      ]
     },
     "execution_count": 58,
     "metadata": {},
     "output_type": "execute_result"
    }
   ],
   "source": [
    "len(data1)"
   ]
  },
  {
   "cell_type": "code",
   "execution_count": 57,
   "id": "5d0de838",
   "metadata": {},
   "outputs": [],
   "source": [
    "data3=data1.tolist()\n",
    "data3.extend(lst_output)"
   ]
  },
  {
   "cell_type": "code",
   "execution_count": 59,
   "id": "59f1e28d",
   "metadata": {},
   "outputs": [
    {
     "data": {
      "text/plain": [
       "[<matplotlib.lines.Line2D at 0x1dfa23847d0>]"
      ]
     },
     "execution_count": 59,
     "metadata": {},
     "output_type": "execute_result"
    },
    {
     "data": {
      "image/png": "[encoded data removed]",
      "text/plain": [
       "<Figure size 640x480 with 1 Axes>"
      ]
     },
     "metadata": {},
     "output_type": "display_data"
    }
   ],
   "source": [
    "plt.plot(day_new,scaler.inverse_transform(data1[1138:]))\n",
    "plt.plot(day_pred,scaler.inverse_transform(lst_output))"
   ]
  },
  {
   "cell_type": "code",
   "execution_count": 61,
   "id": "b2ec1943",
   "metadata": {},
   "outputs": [
    {
     "data": {
      "text/plain": [
       "[<matplotlib.lines.Line2D at 0x1dfa2226ed0>]"
      ]
     },
     "execution_count": 61,
     "metadata": {},
     "output_type": "execute_result"
    },
    {
     "data": {
      "image/png": "[encoded data removed]",
      "text/plain": [
       "<Figure size 640x480 with 1 Axes>"
      ]
     },
     "metadata": {},
     "output_type": "display_data"
    }
   ],
   "source": [
    "data3=data1.tolist()\n",
    "data3.extend(lst_output)\n",
    "plt.plot(data3[1200:])"
   ]
  },
  {
   "cell_type": "code",
   "execution_count": null,
   "id": "9253b8a4",
   "metadata": {},
   "outputs": [],
   "source": []
  }
 ],
 "metadata": {
  "kernelspec": {
   "display_name": "Python 3 (ipykernel)",
   "language": "python",
   "name": "python3"
  },
  "language_info": {
   "codemirror_mode": {
    "name": "ipython",
    "version": 3
   },
   "file_extension": ".py",
   "mimetype": "text/x-python",
   "name": "python",
   "nbconvert_exporter": "python",
   "pygments_lexer": "ipython3",
   "version": "3.11.2"
  }
 },
 "nbformat": 4,
 "nbformat_minor": 5
}
